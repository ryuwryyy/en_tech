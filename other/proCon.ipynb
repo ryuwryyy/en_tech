{
 "cells": [
  {
   "cell_type": "markdown",
   "metadata": {},
   "source": [
    "Q0"
   ]
  },
  {
   "cell_type": "code",
   "execution_count": 6,
   "metadata": {},
   "outputs": [
    {
     "name": "stdout",
     "output_type": "stream",
     "text": [
      "1\n",
      "2 3\n",
      "2 3\n",
      "6 2 3\n"
     ]
    }
   ],
   "source": [
    "a = int(input())\n",
    "b, c = map(int, input().split())\n",
    "print(a+b+c, input())"
   ]
  },
  {
   "cell_type": "markdown",
   "metadata": {},
   "source": [
    "Q1"
   ]
  },
  {
   "cell_type": "code",
   "execution_count": 2,
   "metadata": {},
   "outputs": [
    {
     "name": "stdout",
     "output_type": "stream",
     "text": [
      "1 1\n",
      "Odd\n"
     ]
    }
   ],
   "source": [
    "a, b = map(int, input().split())\n",
    "if (a*b) % 2 == 0:\n",
    "    print(\"Even\")\n",
    "else:\n",
    "    print(\"Odd\")"
   ]
  },
  {
   "cell_type": "markdown",
   "metadata": {},
   "source": [
    "Q2"
   ]
  },
  {
   "cell_type": "code",
   "execution_count": 5,
   "metadata": {},
   "outputs": [
    {
     "name": "stdout",
     "output_type": "stream",
     "text": [
      "111\n",
      "3\n"
     ]
    }
   ],
   "source": [
    "print(input().count(\"1\"))"
   ]
  },
  {
   "cell_type": "markdown",
   "metadata": {},
   "source": [
    "Q3"
   ]
  },
  {
   "cell_type": "code",
   "execution_count": null,
   "metadata": {},
   "outputs": [],
   "source": [
    "n = input()\n",
    "a = list(map(int, input().split()))\n",
    "ans = float(\"inf\")\n",
    "for i in a:\n",
    "    ans = min(ans, len(bin(i)) - bin(i).rfind(\"1\") -1)\n",
    "print(round(ans))"
   ]
  },
  {
   "cell_type": "code",
   "execution_count": 14,
   "metadata": {},
   "outputs": [
    {
     "name": "stdout",
     "output_type": "stream",
     "text": [
      "6\n",
      "0b1000\n",
      "2\n",
      "3\n",
      "6\n",
      "0b1100\n",
      "3\n",
      "2\n",
      "8\n",
      "0b101000\n",
      "4\n",
      "2\n",
      "2\n"
     ]
    }
   ],
   "source": [
    "n = 3\n",
    "a = [8, 12, 40]\n",
    "ans = float(\"inf\")\n",
    "for i in a:\n",
    "    ans = min(ans, len(bin(i)) - bin(i).rfind(\"1\") -1)\n",
    "    print(len(bin(i)))\n",
    "    print(bin(i))\n",
    "    print(bin(i).rfind(\"1\"))\n",
    "    print(ans)\n",
    "print(round(ans))"
   ]
  },
  {
   "cell_type": "code",
   "execution_count": 22,
   "metadata": {},
   "outputs": [
    {
     "name": "stdout",
     "output_type": "stream",
     "text": [
      "2\n"
     ]
    }
   ],
   "source": [
    "import math\n",
    "n = 3\n",
    "a = [8, 12, 40]\n",
    "ans = float(\"inf\")\n",
    "for i in a:\n",
    "    ans = min(ans, len(bin(i)) - bin(i).rfind(\"1\")-1)\n",
    "\n",
    "    print(round(ans))"
   ]
  },
  {
   "cell_type": "markdown",
   "metadata": {},
   "source": [
    "Q4"
   ]
  },
  {
   "cell_type": "code",
   "execution_count": 27,
   "metadata": {},
   "outputs": [
    {
     "name": "stdout",
     "output_type": "stream",
     "text": [
      "True\n"
     ]
    }
   ],
   "source": [
    "def func(a, b, c, x):\n",
    "#     a, b, c, x = map(int, [input() for i in range(4)])\n",
    "    ans = 0\n",
    "    for i in range(a+1):\n",
    "        for j in range(b+1):\n",
    "            for k in range(c+1):\n",
    "                if i *500 + j*100 + k*50 == x:\n",
    "                    ans +=1\n",
    "    return ans\n",
    "\n",
    "print(func(30, 40, 50, 6000) == 213)"
   ]
  },
  {
   "cell_type": "code",
   "execution_count": 38,
   "metadata": {},
   "outputs": [
    {
     "name": "stderr",
     "output_type": "stream",
     "text": [
      ".\n",
      "----------------------------------------------------------------------\n",
      "Ran 1 test in 0.023s\n",
      "\n",
      "OK\n"
     ]
    }
   ],
   "source": [
    "import unittest\n",
    "\n",
    "def func(a, b, c, x):\n",
    "#     a, b, c, x = map(int, [input() for i in range(4)])\n",
    "    ans = 0\n",
    "    for i in range(a+1):\n",
    "        for j in range(b+1):\n",
    "            for k in range(c+1):\n",
    "                if i *500 + j*100 + k*50 == x:\n",
    "                    ans +=1\n",
    "    return ans\n",
    "\n",
    "class FuncTest(unittest.TestCase):\n",
    "    def test_ans(self):\n",
    "        self.assertEqual(func(30, 40, 50, 6000), 213, \"hoge\")\n",
    "        self.assertEqual(func(5, 1, 0, 150), 0)\n",
    "\n",
    "        \n",
    "if __name__ == '__main__': \n",
    "    unittest.main(argv=['first-arg-is-ignored'], exit=False)"
   ]
  },
  {
   "cell_type": "code",
   "execution_count": 43,
   "metadata": {},
   "outputs": [
    {
     "name": "stderr",
     "output_type": "stream",
     "text": [
      "..\n",
      "----------------------------------------------------------------------\n",
      "Ran 2 tests in 0.043s\n",
      "\n",
      "OK\n"
     ]
    }
   ],
   "source": [
    "def enCount(a, b, c, x):\n",
    "    count = 0\n",
    "    for i in range(a+1):\n",
    "        for j in range(b+1):\n",
    "            for k in range(c+1):\n",
    "                if i*500 + j*100 + k*50 == x:\n",
    "                    count += 1\n",
    "    return count\n",
    "\n",
    "import unittest\n",
    "class EncountTest(unittest.TestCase):\n",
    "    def test_enCount(self):\n",
    "        self.assertEqual(enCount(30, 40, 50, 6000), 213)\n",
    "        \n",
    "if __name__ == '__main__':\n",
    "    unittest.main(argv=['first-arg-is-ignored'], exit=False)"
   ]
  },
  {
   "cell_type": "code",
   "execution_count": 55,
   "metadata": {},
   "outputs": [
    {
     "name": "stdout",
     "output_type": "stream",
     "text": [
      "[2]\n",
      "2\n",
      "[3]\n",
      "3\n",
      "[4]\n",
      "4\n",
      "[5]\n",
      "5\n",
      "[1, 1]\n",
      "11\n",
      "[1, 2]\n",
      "12\n",
      "[1, 3]\n",
      "13\n",
      "[1, 4]\n",
      "14\n",
      "[2, 0]\n",
      "20\n",
      "84\n"
     ]
    }
   ],
   "source": [
    "# n, a, b = map(int, input().split())\n",
    "n, a, b = 20, 2, 5\n",
    "ans = 0\n",
    "for i in range(n+1):\n",
    "    if a <= sum(list(map(int, list(str(i))))) <= b:\n",
    "        print((list(map(int, list(str(i))))))\n",
    "        print(i)\n",
    "        ans += i\n",
    "print(ans)"
   ]
  },
  {
   "cell_type": "code",
   "execution_count": 6,
   "metadata": {},
   "outputs": [
    {
     "name": "stderr",
     "output_type": "stream",
     "text": [
      ".\n",
      "----------------------------------------------------------------------\n",
      "Ran 1 test in 0.002s\n",
      "\n",
      "OK\n"
     ]
    }
   ],
   "source": [
    "def keta(n, a, b):\n",
    "    # n, a, b = 20, 2, 5\n",
    "    ans = 0\n",
    "    for i in range(n+1):\n",
    "        if a <= sum(list(map(int, list(str(i))))) <= b:\n",
    "            ans += i\n",
    "\n",
    "    return ans\n",
    "\n",
    "import unittest\n",
    "class ketaTest(unittest.TestCase):\n",
    "    def test_keta(self):\n",
    "        self.assertEqual(keta(20, 2, 5), 84)\n",
    "        \n",
    "if __name__ == '__main__':\n",
    "    unittest.main(argv=['first-arg-is-ignored'], exit=False)"
   ]
  },
  {
   "cell_type": "markdown",
   "metadata": {},
   "source": [
    "Q6"
   ]
  },
  {
   "cell_type": "code",
   "execution_count": 16,
   "metadata": {},
   "outputs": [
    {
     "name": "stdout",
     "output_type": "stream",
     "text": [
      "3 1\n"
     ]
    },
    {
     "name": "stderr",
     "output_type": "stream",
     "text": [
      "..\n",
      "----------------------------------------------------------------------\n",
      "Ran 2 tests in 3.375s\n",
      "\n",
      "OK\n"
     ]
    }
   ],
   "source": [
    "def card_game(n):\n",
    "    a = sorted(list(map(int, input().split())), reverse=True)\n",
    "    return (sum(a[::2]) - sum(a[1::2]))\n",
    "    \n",
    "class card_gameTest(unittest.TestCase):\n",
    "    def test_card_game(self):\n",
    "        self.assertEqual(card_game(2), 2)\n",
    "        \n",
    "if __name__ == '__main__':\n",
    "    unittest.main(argv=['first-arg-is-ignored'], exit=False)"
   ]
  },
  {
   "cell_type": "markdown",
   "metadata": {},
   "source": [
    "Q7"
   ]
  },
  {
   "cell_type": "code",
   "execution_count": 20,
   "metadata": {},
   "outputs": [
    {
     "name": "stdout",
     "output_type": "stream",
     "text": [
      "3\n",
      "1\n"
     ]
    }
   ],
   "source": [
    "def mochi(n, d):\n",
    "    return (len(set(map(int, d))))\n",
    "\n",
    "print(mochi(4, [10, 8, 8, 6]))\n",
    "print(mochi(3, [15, 15, 15]))"
   ]
  },
  {
   "cell_type": "markdown",
   "metadata": {},
   "source": [
    "Q8"
   ]
  },
  {
   "cell_type": "code",
   "execution_count": 4,
   "metadata": {},
   "outputs": [
    {
     "name": "stdout",
     "output_type": "stream",
     "text": [
      "9 45000\n",
      "0 9 0\n"
     ]
    },
    {
     "ename": "SystemExit",
     "evalue": "",
     "output_type": "error",
     "traceback": [
      "An exception has occurred, use %tb to see the full traceback.\n",
      "\u001b[0;31mSystemExit\u001b[0m\n"
     ]
    }
   ],
   "source": [
    "import sys\n",
    "n, y = map(int, input().split())\n",
    "for i in range(n+1):\n",
    "    for j in range(n - i +1):\n",
    "        if i * 10000 + j * 5000 + (n - i - j) * 1000 == y:\n",
    "            print(i, j, n - i - j)\n",
    "            sys.exit()\n",
    "print(\"-1 -1 -1\")"
   ]
  },
  {
   "cell_type": "markdown",
   "metadata": {},
   "source": [
    "Q9"
   ]
  },
  {
   "cell_type": "code",
   "execution_count": 5,
   "metadata": {},
   "outputs": [
    {
     "name": "stdout",
     "output_type": "stream",
     "text": [
      "dreameraser\n",
      "YES\n"
     ]
    }
   ],
   "source": [
    "s = input().replace(\"eraser\",\"\").replace(\"erase\",\"\").replace(\"dreamer\",\"\").replace(\"dream\",\"\")\n",
    "if s:\n",
    "    print(\"No\")\n",
    "else:\n",
    "    print(\"YES\")"
   ]
  },
  {
   "cell_type": "markdown",
   "metadata": {},
   "source": [
    "Q10"
   ]
  },
  {
   "cell_type": "code",
   "execution_count": null,
   "metadata": {},
   "outputs": [
    {
     "name": "stdout",
     "output_type": "stream",
     "text": [
      "2\n"
     ]
    }
   ],
   "source": [
    "n = int(input())\n",
    "for i in range(n):\n",
    "    t, x, y = map(int, input().split())\n",
    "    if (x + y) > t or (x + y + t) % 2:\n",
    "        print(\"No\")\n",
    "        exit()\n",
    "print(\"Yes\")"
   ]
  },
  {
   "cell_type": "code",
   "execution_count": null,
   "metadata": {},
   "outputs": [],
   "source": []
  }
 ],
 "metadata": {
  "kernelspec": {
   "display_name": "Python 3",
   "language": "python",
   "name": "python3"
  },
  "language_info": {
   "codemirror_mode": {
    "name": "ipython",
    "version": 3
   },
   "file_extension": ".py",
   "mimetype": "text/x-python",
   "name": "python",
   "nbconvert_exporter": "python",
   "pygments_lexer": "ipython3",
   "version": "3.6.0"
  }
 },
 "nbformat": 4,
 "nbformat_minor": 2
}
